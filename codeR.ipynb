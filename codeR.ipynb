{
 "cells": [
  {
   "cell_type": "code",
   "execution_count": 2,
   "metadata": {},
   "outputs": [],
   "source": [
    "library(ggplot2)\n",
    "library(tidyverse)\n",
    "library(caTools)\n",
    "library(dplyr)\n",
    "library(sjPlot)\n",
    "library(sjlabelled)\n",
    "library(mlr)\n",
    "library(rpart)"
   ]
  },
  {
   "cell_type": "code",
   "execution_count": 67,
   "metadata": {},
   "outputs": [
    {
     "data": {
      "text/plain": [
       "  Timestamp              Age                Gender            Country         \n",
       " Length:1259        Min.   :-1.726e+03   Length:1259        Length:1259       \n",
       " Class :character   1st Qu.: 2.700e+01   Class :character   Class :character  \n",
       " Mode  :character   Median : 3.100e+01   Mode  :character   Mode  :character  \n",
       "                    Mean   : 7.943e+07                                        \n",
       "                    3rd Qu.: 3.600e+01                                        \n",
       "                    Max.   : 1.000e+11                                        \n",
       "    state           self_employed      family_history      treatment        \n",
       " Length:1259        Length:1259        Length:1259        Length:1259       \n",
       " Class :character   Class :character   Class :character   Class :character  \n",
       " Mode  :character   Mode  :character   Mode  :character   Mode  :character  \n",
       "                                                                            \n",
       "                                                                            \n",
       "                                                                            \n",
       " work_interfere     no_employees       remote_work        tech_company      \n",
       " Length:1259        Length:1259        Length:1259        Length:1259       \n",
       " Class :character   Class :character   Class :character   Class :character  \n",
       " Mode  :character   Mode  :character   Mode  :character   Mode  :character  \n",
       "                                                                            \n",
       "                                                                            \n",
       "                                                                            \n",
       "   benefits         care_options       wellness_program    seek_help        \n",
       " Length:1259        Length:1259        Length:1259        Length:1259       \n",
       " Class :character   Class :character   Class :character   Class :character  \n",
       " Mode  :character   Mode  :character   Mode  :character   Mode  :character  \n",
       "                                                                            \n",
       "                                                                            \n",
       "                                                                            \n",
       "  anonymity            leave           mental_health_consequence\n",
       " Length:1259        Length:1259        Length:1259              \n",
       " Class :character   Class :character   Class :character         \n",
       " Mode  :character   Mode  :character   Mode  :character         \n",
       "                                                                \n",
       "                                                                \n",
       "                                                                \n",
       " phys_health_consequence  coworkers          supervisor       \n",
       " Length:1259             Length:1259        Length:1259       \n",
       " Class :character        Class :character   Class :character  \n",
       " Mode  :character        Mode  :character   Mode  :character  \n",
       "                                                              \n",
       "                                                              \n",
       "                                                              \n",
       " mental_health_interview phys_health_interview mental_vs_physical\n",
       " Length:1259             Length:1259           Length:1259       \n",
       " Class :character        Class :character      Class :character  \n",
       " Mode  :character        Mode  :character      Mode  :character  \n",
       "                                                                 \n",
       "                                                                 \n",
       "                                                                 \n",
       " obs_consequence      comments        \n",
       " Length:1259        Length:1259       \n",
       " Class :character   Class :character  \n",
       " Mode  :character   Mode  :character  \n",
       "                                      \n",
       "                                      \n",
       "                                      "
      ]
     },
     "metadata": {},
     "output_type": "display_data"
    }
   ],
   "source": [
    "# load data\n",
    "df <- read.csv(\"./tutorials/mental health in tech.csv\")\n",
    "summary(df)"
   ]
  },
  {
   "cell_type": "code",
   "execution_count": 68,
   "metadata": {},
   "outputs": [
    {
     "data": {
      "text/plain": [
       "  Timestamp              Age             Gender             Country   \n",
       " Length:1259        Min.   :-1.726e+03   F: 257   United States :751  \n",
       " Class :character   1st Qu.: 2.700e+01   M:1002   United Kingdom:185  \n",
       " Mode  :character   Median : 3.100e+01            Canada        : 72  \n",
       "                    Mean   : 7.943e+07            Germany       : 45  \n",
       "                    3rd Qu.: 3.600e+01            Ireland       : 27  \n",
       "                    Max.   : 1.000e+11            Netherlands   : 27  \n",
       "                                                  (Other)       :152  \n",
       "     state     self_employed family_history treatment   work_interfere\n",
       " CA     :138   No  :1095     No :767        No :622   Never    :213   \n",
       " WA     : 70   Yes : 146     Yes:492        Yes:637   Often    :144   \n",
       " NY     : 57   NA's:  18                              Rarely   :173   \n",
       " TN     : 45                                          Sometimes:465   \n",
       " TX     : 44                                          NA's     :264   \n",
       " (Other):390                                                          \n",
       " NA's   :515                                                          \n",
       "         no_employees remote_work tech_company       benefits     care_options\n",
       " 1-5           :162   No :883     No : 228     Don't know:408   No      :501  \n",
       " 100-500       :176   Yes:376     Yes:1031     No        :374   Not sure:314  \n",
       " 26-100        :289                            Yes       :477   Yes     :444  \n",
       " 500-1000      : 60                                                           \n",
       " 6-25          :290                                                           \n",
       " More than 1000:282                                                           \n",
       "                                                                              \n",
       "   wellness_program      seek_help        anonymity                  leave    \n",
       " Don't know:188     Don't know:363   Don't know:819   Don't know        :563  \n",
       " No        :842     No        :646   No        : 65   Somewhat difficult:126  \n",
       " Yes       :229     Yes       :250   Yes       :375   Somewhat easy     :266  \n",
       "                                                      Very difficult    : 98  \n",
       "                                                      Very easy         :206  \n",
       "                                                                              \n",
       "                                                                              \n",
       " mental_health_consequence phys_health_consequence        coworkers  \n",
       " Maybe:477                 Maybe:273               No          :260  \n",
       " No   :490                 No   :925               Some of them:774  \n",
       " Yes  :292                 Yes  : 61               Yes         :225  \n",
       "                                                                     \n",
       "                                                                     \n",
       "                                                                     \n",
       "                                                                     \n",
       "        supervisor  mental_health_interview phys_health_interview\n",
       " No          :393   Maybe: 207              Maybe:557            \n",
       " Some of them:350   No   :1008              No   :500            \n",
       " Yes         :516   Yes  :  44              Yes  :202            \n",
       "                                                                 \n",
       "                                                                 \n",
       "                                                                 \n",
       "                                                                 \n",
       "  mental_vs_physical obs_consequence   comments        \n",
       " Don't know:576      No :1075        Length:1259       \n",
       " No        :340      Yes: 184        Class :character  \n",
       " Yes       :343                      Mode  :character  \n",
       "                                                       \n",
       "                                                       \n",
       "                                                       \n",
       "                                                       "
      ]
     },
     "metadata": {},
     "output_type": "display_data"
    }
   ],
   "source": [
    "# transform data type\n",
    "df$Gender <- plyr::revalue(df$Gender,c('Female'='F', 'M'='M', 'Male'='M', 'male'='M', 'female'='F', 'm'='M', 'Male-ish'='M', 'maile'='M', 'Trans-female'='F',\n",
    " 'Cis Female'='F', 'F'='F', 'something kinda male?'='M', 'Cis Male'='M', 'Woman'='M', 'f'='F', 'Mal'='M',\n",
    " 'Male (CIS)'='M', 'queer/she/they'='M', 'non-binary'='F', 'Femake'='F', 'woman'='M', 'Make'='M', 'Nah'='F',\n",
    " 'All'='F', 'Enby'='F', 'fluid'='F', 'Genderqueer'='F', 'Female '='F', 'Androgyne'='M', 'Agender'='M',\n",
    " 'cis-female/femme'='F', 'Guy (-ish) ^_^'='M', 'male leaning androgynous'='M', 'Male '='M',\n",
    " 'Man'='M', 'Trans woman'='F', 'msle'='M', 'Neuter'='F', 'Female (trans)'='F', 'queer'='F',\n",
    " 'Female (cis)'='F', 'Mail'='M', 'cis male'='M', 'A little about you'='F', 'Malr'='M', 'p'='F', 'femail'='F',\n",
    " 'Cis Man'='M', 'ostensibly male, unsure what that really means'='M'))\n",
    "df$Gender <- factor(df$Gender, labels=c('F','M'))\n",
    "df$Country <- as.factor(df$Country)\n",
    "df$state <- as.factor(df$state)\n",
    "df$self_employed <- as.factor(df$self_employed)\n",
    "df$family_history <- as.factor(df$family_history)\n",
    "df$treatment <- as.factor(df$treatment)\n",
    "df$work_interfere <- as.factor(df$work_interfere)\n",
    "df$no_employees <- as.factor(df$no_employees)\n",
    "df$remote_work <- as.factor(df$remote_work)\n",
    "df$tech_company <- as.factor(df$tech_company)\n",
    "df$benefits <- as.factor(df$benefits)\n",
    "df$care_options <- as.factor(df$care_options)\n",
    "df$wellness_program <- as.factor(df$wellness_program)\n",
    "df$seek_help <- as.factor(df$seek_help)\n",
    "df$anonymity <- as.factor(df$anonymity)\n",
    "df$leave <- as.factor(df$leave)\n",
    "df$mental_health_consequence <- as.factor(df$mental_health_consequence)\n",
    "df$phys_health_consequence <- as.factor(df$phys_health_consequence)\n",
    "df$coworkers <- as.factor(df$coworkers)\n",
    "df$supervisor <- as.factor(df$supervisor)\n",
    "df$mental_health_interview <- as.factor(df$mental_health_interview)\n",
    "df$phys_health_interview <- as.factor(df$phys_health_interview)\n",
    "df$mental_vs_physical <- as.factor(df$mental_vs_physical)\n",
    "df$obs_consequence <- as.factor(df$obs_consequence)\n",
    "\n",
    "summary(df)"
   ]
  },
  {
   "cell_type": "code",
   "execution_count": 69,
   "metadata": {},
   "outputs": [
    {
     "data": {
      "image/png": "[encoded data removed]",
      "text/plain": [
       "Plot with title \"Age - Normal Q-Q plot\""
      ]
     },
     "metadata": {
      "image/png": {
       "height": 300,
       "width": 600
      }
     },
     "output_type": "display_data"
    }
   ],
   "source": [
    "qqnorm(df$Age, main=\"Age - Normal Q-Q plot\")\n",
    "qqline(df$Age)"
   ]
  },
  {
   "cell_type": "code",
   "execution_count": 70,
   "metadata": {},
   "outputs": [
    {
     "data": {
      "image/png": "[encoded data removed]",
      "text/plain": [
       "Plot with title \"Age - After Removing Outliers\""
      ]
     },
     "metadata": {
      "image/png": {
       "height": 300,
       "width": 600
      }
     },
     "output_type": "display_data"
    }
   ],
   "source": [
    "q <- quantile(df$Age, probs=c(.25, .75), na.rm = T)\n",
    "iqr <- IQR(df$Age, na.rm = T)\n",
    "\n",
    "df1 <- df %>% filter(Age > (q[1] - 1.5 * iqr) & Age < (q[2] + 1.5 * iqr))\n",
    "par(mfrow=c(2,1))\n",
    "options(repr.plot.width=10, repr.plot.height=5)\n",
    "boxplot(df$Age, col='grey40', horizontal=T, main='Age - Before Removing Outliers')\n",
    "boxplot(df1$Age, col='seagreen3', horizontal=T, main='Age - After Removing Outliers')"
   ]
  },
  {
   "cell_type": "code",
   "execution_count": 71,
   "metadata": {},
   "outputs": [
    {
     "data": {
      "image/png": "[encoded data removed]",
      "text/plain": [
       "plot without title"
      ]
     },
     "metadata": {
      "image/png": {
       "height": 300,
       "width": 600
      }
     },
     "output_type": "display_data"
    }
   ],
   "source": [
    "par(mfrow=c(1,1))\n",
    "df[df[,\"Age\"]<0,\"Age\"] <- 0\n",
    "df[df[,\"Age\"]>100, \"Age\"] <- 100\n",
    "p <- ggplot(df,aes(Age)) \n",
    "p + geom_histogram(color=\"black\", fill=\"lightblue\", binwidth=2) + geom_vline(aes(xintercept=mean(Age)), color=\"red\", linetype=\"dashed\", size=1) + theme_bw()"
   ]
  },
  {
   "cell_type": "code",
   "execution_count": null,
   "metadata": {},
   "outputs": [],
   "source": [
    "cols <- colnames(df)\n",
    "\n",
    "# Make plots. \n",
    "bar_list <- list() \n",
    "rate_list <- list()\n",
    "for (i in 1:27) {\n",
    "  bar <- ggplot(df, aes_string(x=cols[i])) + geom_bar() + theme(axis.text.x = element_text(angle = 45, hjust = 0.5, vjust = 0.5))\n",
    "  bar_list[[i]] <- bar \n",
    "  rate <- ggplot(df, aes_string(x=cols[i],fill='treatment')) + geom_bar(position='fill') + theme(axis.text.x = element_text(angle = 45, hjust = 0.5, vjust = 0.5))\n",
    "  rate_list[[i]] <- rate\n",
    "} \n",
    "\n",
    "# Save plots to jpg. Makes a separate file for each plot. \n",
    "for (i in 1:27) { \n",
    "  jpeg(filename = paste0(\"./images/\",cols[i],\"_barplot.jpg\"), width = 600, height = 800,res = 300)\n",
    "  print(bar_list[i]) \n",
    "  dev.off() \n",
    "} \n",
    "for (i in 1:27) { \n",
    "  jpeg(filename = paste0(\"./images/\",cols[i],\"_rateplot.jpg\"), width = 1000, height = 600,res = 300)\n",
    "  print(rate_list[i]) \n",
    "  dev.off() \n",
    "} \n",
    "dev.off() "
   ]
  },
  {
   "cell_type": "code",
   "execution_count": 72,
   "metadata": {},
   "outputs": [
    {
     "name": "stdout",
     "output_type": "stream",
     "text": [
      "                Timestamp                       Age                    Gender \n",
      "                        0                         0                         0 \n",
      "                  Country                     state             self_employed \n",
      "                        0                       515                        18 \n",
      "           family_history                 treatment            work_interfere \n",
      "                        0                         0                       264 \n",
      "             no_employees               remote_work              tech_company \n",
      "                        0                         0                         0 \n",
      "                 benefits              care_options          wellness_program \n",
      "                        0                         0                         0 \n",
      "                seek_help                 anonymity                     leave \n",
      "                        0                         0                         0 \n",
      "mental_health_consequence   phys_health_consequence                 coworkers \n",
      "                        0                         0                         0 \n",
      "               supervisor   mental_health_interview     phys_health_interview \n",
      "                        0                         0                         0 \n",
      "       mental_vs_physical           obs_consequence                  comments \n",
      "                        0                         0                      1095 \n"
     ]
    }
   ],
   "source": [
    "print(sapply(df, function(x) sum(is.na(x))))"
   ]
  },
  {
   "cell_type": "code",
   "execution_count": 73,
   "metadata": {},
   "outputs": [
    {
     "data": {
      "text/html": [
       "2"
      ],
      "text/latex": [
       "2"
      ],
      "text/markdown": [
       "2"
      ],
      "text/plain": [
       "[1] 2"
      ]
     },
     "metadata": {},
     "output_type": "display_data"
    }
   ],
   "source": [
    "round((sum(is.na(df))/nrow(df)))"
   ]
  },
  {
   "cell_type": "code",
   "execution_count": 14,
   "metadata": {},
   "outputs": [
    {
     "ename": "ERROR",
     "evalue": "Error in missmap(df, main = \"Missing Map\"): could not find function \"missmap\"\n",
     "output_type": "error",
     "traceback": [
      "Error in missmap(df, main = \"Missing Map\"): could not find function \"missmap\"\nTraceback:\n"
     ]
    }
   ],
   "source": [
    "missmap(df, main=\"Missing Map\")"
   ]
  },
  {
   "cell_type": "code",
   "execution_count": 74,
   "metadata": {},
   "outputs": [],
   "source": [
    "# reformat\n",
    "cols <- colnames(df)\n",
    "recols <- cols[-which(cols=='Timestamp'|cols=='state'|cols=='comments')]\n",
    "df <- df[recols]"
   ]
  },
  {
   "cell_type": "code",
   "execution_count": 64,
   "metadata": {},
   "outputs": [
    {
     "data": {
      "text/html": [
       "86"
      ],
      "text/latex": [
       "86"
      ],
      "text/markdown": [
       "86"
      ],
      "text/plain": [
       "[1] 86"
      ]
     },
     "metadata": {},
     "output_type": "display_data"
    }
   ],
   "source": [
    "# delete the rows with NAs\n",
    "df1 <- drop_na(df)\n",
    "nrow(df1)"
   ]
  },
  {
   "cell_type": "code",
   "execution_count": 75,
   "metadata": {},
   "outputs": [],
   "source": [
    "# create task and split dataset\n",
    "library(mlbench)\n",
    "mental <- createDummyFeatures(df1, target='treatment')\n",
    "task <- makeClassifTask(data=mental, target='treatment')\n",
    "holdout <- makeResampleInstance(\"Holdout\", task)\n",
    "task.train <- subsetTask(task, holdout$train.inds[[1]])\n",
    "task.test <- subsetTask(task, holdout$test.inds[[1]])"
   ]
  },
  {
   "cell_type": "code",
   "execution_count": 76,
   "metadata": {},
   "outputs": [
    {
     "name": "stderr",
     "output_type": "stream",
     "text": [
      "Warning message:\n",
      "\"'Filter 'information.gain'' is deprecated.\n",
      "Use 'Filter 'FSelector_information.gain' (package FSelector)' instead.\n",
      "See help(\"Deprecated\")\"\n",
      "Warning message:\n",
      "\"'Filter 'information.gain'' is deprecated.\n",
      "Use 'Filter 'FSelector_information.gain' (package FSelector)' instead.\n",
      "See help(\"Deprecated\")\"\n"
     ]
    },
    {
     "data": {
      "image/png": "[encoded data removed]",
      "text/plain": [
       "plot without title"
      ]
     },
     "metadata": {
      "image/png": {
       "height": 300,
       "width": 600
      }
     },
     "output_type": "display_data"
    }
   ],
   "source": [
    "library(FSelector)\n",
    "var_imp <- generateFilterValuesData(task, method = \"information.gain\")\n",
    "var_imp <- generateFilterValuesData(task, method = c(\"information.gain\"))\n",
    "plotFilterValues(var_imp,n.show=10, feat.type.cols = TRUE)"
   ]
  },
  {
   "cell_type": "markdown",
   "metadata": {},
   "source": [
    "## decision tree"
   ]
  },
  {
   "cell_type": "code",
   "execution_count": 77,
   "metadata": {},
   "outputs": [
    {
     "name": "stderr",
     "output_type": "stream",
     "text": [
      "Resampling: cross-validation\n",
      "\n",
      "Measures:             acc       \n",
      "\n",
      "[Resample] iter 1:    0.7604790 \n",
      "\n",
      "[Resample] iter 2:    0.7202381 \n",
      "\n",
      "[Resample] iter 3:    0.7261905 \n",
      "\n",
      "[Resample] iter 4:    0.7380952 \n",
      "\n",
      "[Resample] iter 5:    0.7321429 \n",
      "\n",
      "\n",
      "\n",
      "\n",
      "Aggregated Result: acc.test.mean=0.7354291\n",
      "\n",
      "\n",
      "\n",
      "\n"
     ]
    }
   ],
   "source": [
    "# create classifier and evaluate performance\n",
    "clf1 <- makeLearner(\"classif.rpart\",predict.type='prob')\n",
    "cv1 <- makeResampleDesc(\"CV\",iters=5)\n",
    "result1 <- resample(clf1, task.train, cv1, acc)"
   ]
  },
  {
   "cell_type": "code",
   "execution_count": 78,
   "metadata": {},
   "outputs": [
    {
     "data": {
      "text/plain": [
       "        predicted\n",
       "true      No Yes -err.-\n",
       "  No     143  53     53\n",
       "  Yes     60 164     60\n",
       "  -err.-  60  53    113"
      ]
     },
     "metadata": {},
     "output_type": "display_data"
    }
   ],
   "source": [
    "model1 <- train(clf1, task.train)\n",
    "pred1 <- predict(model1, task.test)\n",
    "calculateConfusionMatrix(pred1)"
   ]
  },
  {
   "cell_type": "code",
   "execution_count": 79,
   "metadata": {},
   "outputs": [
    {
     "data": {
      "text/html": [
       "<style>\n",
       ".dl-inline {width: auto; margin:0; padding: 0}\n",
       ".dl-inline>dt, .dl-inline>dd {float: none; width: auto; display: inline-block}\n",
       ".dl-inline>dt::after {content: \":\\0020\"; padding-right: .5ex}\n",
       ".dl-inline>dt:not(:first-of-type) {padding-left: .5ex}\n",
       "</style><dl class=dl-inline><dt>fpr</dt><dd>0.267857142857143</dd><dt>fnr</dt><dd>0.270408163265306</dd><dt>auc</dt><dd>0.765909712099125</dd></dl>\n"
      ],
      "text/latex": [
       "\\begin{description*}\n",
       "\\item[fpr] 0.267857142857143\n",
       "\\item[fnr] 0.270408163265306\n",
       "\\item[auc] 0.765909712099125\n",
       "\\end{description*}\n"
      ],
      "text/markdown": [
       "fpr\n",
       ":   0.267857142857143fnr\n",
       ":   0.270408163265306auc\n",
       ":   0.765909712099125\n",
       "\n"
      ],
      "text/plain": [
       "      fpr       fnr       auc \n",
       "0.2678571 0.2704082 0.7659097 "
      ]
     },
     "metadata": {},
     "output_type": "display_data"
    }
   ],
   "source": [
    "res1 <- performance(pred1, measures = list(fpr, fnr, auc))\n",
    "res1"
   ]
  },
  {
   "cell_type": "code",
   "execution_count": 80,
   "metadata": {},
   "outputs": [
    {
     "data": {
      "image/png": "[encoded data removed]",
      "text/plain": [
       "plot without title"
      ]
     },
     "metadata": {
      "image/png": {
       "height": 300,
       "width": 600
      }
     },
     "output_type": "display_data"
    }
   ],
   "source": [
    "otp1 <- generateThreshVsPerfData(pred1, measures = list(fpr, fnr, mmce))\n",
    "plotThreshVsPerf(otp1)"
   ]
  },
  {
   "cell_type": "code",
   "execution_count": 81,
   "metadata": {},
   "outputs": [
    {
     "data": {
      "image/png": "[encoded data removed]",
      "text/plain": [
       "plot without title"
      ]
     },
     "metadata": {
      "image/png": {
       "height": 300,
       "width": 600
      }
     },
     "output_type": "display_data"
    }
   ],
   "source": [
    "library(rpart.plot)\n",
    "rpart.plot(model1$learner.model, roundint=FALSE, varlen=100, type = 3, clip.right.labs = FALSE, yesno = 2)"
   ]
  },
  {
   "cell_type": "code",
   "execution_count": null,
   "metadata": {},
   "outputs": [],
   "source": []
  },
  {
   "cell_type": "markdown",
   "metadata": {},
   "source": [
    "## random forest"
   ]
  },
  {
   "cell_type": "code",
   "execution_count": 73,
   "metadata": {},
   "outputs": [
    {
     "name": "stderr",
     "output_type": "stream",
     "text": [
      "Resampling: cross-validation\n",
      "\n",
      "Measures:             acc       \n",
      "\n",
      "[Resample] iter 1:    0.7615385 \n",
      "\n",
      "[Resample] iter 2:    0.7709924 \n",
      "\n",
      "[Resample] iter 3:    0.8384615 \n",
      "\n",
      "[Resample] iter 4:    0.8230769 \n",
      "\n",
      "[Resample] iter 5:    0.7538462 \n",
      "\n",
      "\n",
      "\n",
      "\n",
      "Aggregated Result: acc.test.mean=0.7895831\n",
      "\n",
      "\n",
      "\n",
      "\n"
     ]
    }
   ],
   "source": [
    "# create classifier and evaluate performance\n",
    "clf2 <- makeLearner(\"classif.randomForest\",predict.type = \"prob\")\n",
    "cv2 <- makeResampleDesc(\"CV\",iters=5)\n",
    "result2 <- resample(clf2, task.train, cv2, acc)"
   ]
  },
  {
   "cell_type": "code",
   "execution_count": 74,
   "metadata": {},
   "outputs": [
    {
     "data": {
      "text/plain": [
       "        predicted\n",
       "true     No Yes -err.-\n",
       "  No     65  59     59\n",
       "  Yes    22 180     22\n",
       "  -err.- 22  59     81"
      ]
     },
     "metadata": {},
     "output_type": "display_data"
    }
   ],
   "source": [
    "model2 <- train(clf2, task.train)\n",
    "pred2 <- predict(model2, task.test)\n",
    "calculateConfusionMatrix(pred2)"
   ]
  },
  {
   "cell_type": "code",
   "execution_count": 75,
   "metadata": {},
   "outputs": [
    {
     "data": {
      "text/html": [
       "<style>\n",
       ".dl-inline {width: auto; margin:0; padding: 0}\n",
       ".dl-inline>dt, .dl-inline>dd {float: none; width: auto; display: inline-block}\n",
       ".dl-inline>dt::after {content: \":\\0020\"; padding-right: .5ex}\n",
       ".dl-inline>dt:not(:first-of-type) {padding-left: .5ex}\n",
       "</style><dl class=dl-inline><dt>fpr</dt><dd>0.108910891089109</dd><dt>fnr</dt><dd>0.475806451612903</dd><dt>auc</dt><dd>0.795013573938039</dd></dl>\n"
      ],
      "text/latex": [
       "\\begin{description*}\n",
       "\\item[fpr] 0.108910891089109\n",
       "\\item[fnr] 0.475806451612903\n",
       "\\item[auc] 0.795013573938039\n",
       "\\end{description*}\n"
      ],
      "text/markdown": [
       "fpr\n",
       ":   0.108910891089109fnr\n",
       ":   0.475806451612903auc\n",
       ":   0.795013573938039\n",
       "\n"
      ],
      "text/plain": [
       "      fpr       fnr       auc \n",
       "0.1089109 0.4758065 0.7950136 "
      ]
     },
     "metadata": {},
     "output_type": "display_data"
    }
   ],
   "source": [
    "res2 <- performance(pred2, measures = list(fpr, fnr, auc))\n",
    "res2"
   ]
  },
  {
   "cell_type": "code",
   "execution_count": 76,
   "metadata": {},
   "outputs": [
    {
     "data": {
      "image/png": "[encoded data removed]",
      "text/plain": [
       "plot without title"
      ]
     },
     "metadata": {
      "image/png": {
       "height": 300,
       "width": 600
      }
     },
     "output_type": "display_data"
    }
   ],
   "source": [
    "otp2 = generateThreshVsPerfData(pred2, measures = list(fpr, fnr, mmce))\n",
    "plotThreshVsPerf(otp2)"
   ]
  },
  {
   "cell_type": "code",
   "execution_count": 79,
   "metadata": {},
   "outputs": [
    {
     "data": {
      "image/png": "[encoded data removed]",
      "text/plain": [
       "plot without title"
      ]
     },
     "metadata": {
      "image/png": {
       "height": 300,
       "width": 600
      }
     },
     "output_type": "display_data"
    }
   ],
   "source": [
    "cur = generateThreshVsPerfData(list(decisionTree=pred1, randomForest=pred2), measures = list(fpr, tpr))\n",
    "plotROCCurves(cur)"
   ]
  },
  {
   "cell_type": "code",
   "execution_count": null,
   "metadata": {},
   "outputs": [],
   "source": []
  }
 ],
 "metadata": {
  "kernelspec": {
   "display_name": "R",
   "language": "R",
   "name": "ir"
  },
  "language_info": {
   "codemirror_mode": "r",
   "file_extension": ".r",
   "mimetype": "text/x-r-source",
   "name": "R",
   "pygments_lexer": "r",
   "version": "4.0.5"
  }
 },
 "nbformat": 4,
 "nbformat_minor": 4
}
